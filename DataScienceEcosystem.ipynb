{
 "cells": [
  {
   "cell_type": "markdown",
   "id": "76a64604-202b-4936-8a6b-38d1208891c9",
   "metadata": {},
   "source": [
    "# Data Science Tools and Ecosystem"
   ]
  },
  {
   "cell_type": "markdown",
   "id": "f477730e-9f89-4989-b083-44e2b2edb5f9",
   "metadata": {},
   "source": [
    "In this notebook, Data Science Tools and Ecosystem are summarized."
   ]
  },
  {
   "cell_type": "markdown",
   "id": "38048758-4ff3-47f8-b1b4-943b4e9a5001",
   "metadata": {},
   "source": [
    "#### Some of the popular languages that Data Scientists use are:\n",
    "1. python\n",
    "2. R\n",
    "3. sql\n",
    "4. JAVA\n",
    "5. julia\n",
    "6. Scala\n"
   ]
  },
  {
   "cell_type": "markdown",
   "id": "414e380b-eabc-4657-babb-2b48aeff3217",
   "metadata": {},
   "source": [
    "#### Some of the commonly used libraries used by Data Scientists include:\n",
    "1. Numpy\n",
    "2. pandas\n",
    "3. Matplotlib\n",
    "4. Tensflow\n",
    "5. scipy\n",
    "\n",
    "- Numpy\n",
    "- pandas\n",
    "- Matplotlib\n",
    "- Tensflow\n",
    "- scipy"
   ]
  },
  {
   "cell_type": "markdown",
   "id": "22f90f11-72e0-4892-b0be-6da0a07da97d",
   "metadata": {},
   "source": [
    "Table of Data Science tools\n",
    "| Data Science Tools |\n",
    "|----------|\n",
    "| Hadoop |\n",
    "| JupyterNote book |\n",
    "| Apache Spark |"
   ]
  },
  {
   "cell_type": "markdown",
   "id": "6718b61a-08cd-4202-99ac-a362ead4dd17",
   "metadata": {},
   "source": [
    "## introducing arithmetic expression examples\n",
    "### Below are a few examples of evaluating arithmetic expressions in Python\n",
    "\n"
   ]
  },
  {
   "cell_type": "code",
   "execution_count": 6,
   "id": "ae437b45-7602-4ffa-a0e4-868ab6a002d9",
   "metadata": {},
   "outputs": [
    {
     "data": {
      "text/plain": [
       "17"
      ]
     },
     "execution_count": 6,
     "metadata": {},
     "output_type": "execute_result"
    }
   ],
   "source": [
    "#This a simple arithmetic expression to mutiply then add integers\n",
    "(3*4)+5"
   ]
  },
  {
   "cell_type": "code",
   "execution_count": 9,
   "id": "6520f2f5-b729-404e-a585-26cece20ff76",
   "metadata": {},
   "outputs": [
    {
     "data": {
      "text/plain": [
       "3.3333333333333335"
      ]
     },
     "execution_count": 9,
     "metadata": {},
     "output_type": "execute_result"
    }
   ],
   "source": [
    "#This will convert 200 minutes to hours by diving by 60\n",
    "200/60"
   ]
  },
  {
   "cell_type": "markdown",
   "id": "7cac2a58-7cf6-4567-b9d3-d6abd82e09a6",
   "metadata": {},
   "source": [
    "__Objectives__\n",
    "\n",
    "\n",
    "##### we coverd some thing like use in data science i.e:\n",
    "* Some of the popular languages that Data Scientists use\n",
    "* Some of the commonly used libraries used by Data Scientists\n",
    "* Data Science Tools\n",
    "* simple arithmetic expression to mutiply then add integers\n",
    "* convert minutes into hour\n"
   ]
  },
  {
   "cell_type": "markdown",
   "id": "30093465-aaf9-4469-99ce-834df892cdae",
   "metadata": {},
   "source": [
    "## Author\n",
    "\n",
    "Muhammad Danial Burfat"
   ]
  },
  {
   "cell_type": "code",
   "execution_count": null,
   "id": "74c74abf-8a88-4e39-97c1-15e3da035afe",
   "metadata": {},
   "outputs": [],
   "source": []
  }
 ],
 "metadata": {
  "kernelspec": {
   "display_name": "Python 3 (ipykernel)",
   "language": "python",
   "name": "python3"
  },
  "language_info": {
   "codemirror_mode": {
    "name": "ipython",
    "version": 3
   },
   "file_extension": ".py",
   "mimetype": "text/x-python",
   "name": "python",
   "nbconvert_exporter": "python",
   "pygments_lexer": "ipython3",
   "version": "3.11.7"
  }
 },
 "nbformat": 4,
 "nbformat_minor": 5
}
